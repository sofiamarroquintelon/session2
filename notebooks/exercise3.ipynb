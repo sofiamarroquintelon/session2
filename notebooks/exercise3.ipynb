{
 "cells": [
  {
   "cell_type": "code",
   "execution_count": 8,
   "metadata": {},
   "outputs": [],
   "source": [
    "todo_list= []\n",
    "def add_task(task):\n",
    "    todo_list.append(task)\n",
    "def show_tasks():\n",
    "    for index, task in enumerate(todo_list):\n",
    "        print(f'{index + 1}. {task}')"
   ]
  },
  {
   "cell_type": "code",
   "execution_count": 9,
   "metadata": {},
   "outputs": [
    {
     "name": "stdout",
     "output_type": "stream",
     "text": [
      "1. Clean the kitchen\n",
      "2. Do the laundry\n"
     ]
    }
   ],
   "source": [
    "add_task(\"Clean the kitchen\")\n",
    "add_task(\"Do the laundry\")\n",
    "show_tasks()\n"
   ]
  },
  {
   "cell_type": "code",
   "execution_count": null,
   "metadata": {},
   "outputs": [],
   "source": []
  }
 ],
 "metadata": {
  "kernelspec": {
   "display_name": "mi_entorno",
   "language": "python",
   "name": "python3"
  },
  "language_info": {
   "codemirror_mode": {
    "name": "ipython",
    "version": 3
   },
   "file_extension": ".py",
   "mimetype": "text/x-python",
   "name": "python",
   "nbconvert_exporter": "python",
   "pygments_lexer": "ipython3",
   "version": "3.12.7"
  }
 },
 "nbformat": 4,
 "nbformat_minor": 2
}
